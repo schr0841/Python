{
 "cells": [
  {
   "cell_type": "code",
   "execution_count": 5,
   "metadata": {},
   "outputs": [
    {
     "ename": "NameError",
     "evalue": "name 'Process' is not defined",
     "output_type": "error",
     "traceback": [
      "\u001b[1;31m---------------------------------------------------------------------------\u001b[0m",
      "\u001b[1;31mNameError\u001b[0m                                 Traceback (most recent call last)",
      "\u001b[1;32m<ipython-input-5-001735863abf>\u001b[0m in \u001b[0;36m<module>\u001b[1;34m()\u001b[0m\n\u001b[0;32m      6\u001b[0m \u001b[1;31m## Model components ------------------------\u001b[0m\u001b[1;33m\u001b[0m\u001b[1;33m\u001b[0m\u001b[0m\n\u001b[0;32m      7\u001b[0m \u001b[1;33m\u001b[0m\u001b[0m\n\u001b[1;32m----> 8\u001b[1;33m \u001b[1;32mclass\u001b[0m \u001b[0mSource\u001b[0m\u001b[1;33m(\u001b[0m\u001b[0mProcess\u001b[0m\u001b[1;33m)\u001b[0m\u001b[1;33m:\u001b[0m\u001b[1;33m\u001b[0m\u001b[0m\n\u001b[0m\u001b[0;32m      9\u001b[0m     \u001b[1;34m\"\"\" Source generates customers randomly\"\"\"\u001b[0m\u001b[1;33m\u001b[0m\u001b[0m\n\u001b[0;32m     10\u001b[0m \u001b[1;33m\u001b[0m\u001b[0m\n",
      "\u001b[1;31mNameError\u001b[0m: name 'Process' is not defined"
     ]
    }
   ],
   "source": [
    "import simpy           \n",
    "import simpy.events\n",
    "import random\n",
    "\n",
    "\n",
    "## Model components ------------------------\n",
    "\n",
    "class Source(Process):\n",
    "    \"\"\" Source generates customers randomly\"\"\"\n",
    "\n",
    "    def generate(self,number,interval,resource):       \n",
    "        for i in range(number):\n",
    "            c = Customer(name = \"Customer%02d\"%(i,))\n",
    "            activate(c,c.visit(b=resource))\n",
    "            t = expovariate(1.0/interval)\n",
    "            yield hold,self,t\n",
    "\n",
    "class Customer(Process):\n",
    "    \"\"\" Customer arrives, is served and leaves \"\"\"\n",
    "        \n",
    "    def visit(self,b):       \n",
    "        arrive = now()\n",
    "        yield request,self,b\n",
    "        wait = now()-arrive                       \n",
    "        wM.observe(wait)                        \n",
    "        tib = expovariate(1.0/timeInBank)\n",
    "        yield hold,self,tib\n",
    "        yield release,self,b\n",
    "\n",
    "## Experiment data -------------------------\n",
    "\n",
    "maxNumber = 50\n",
    "maxTime = 1000.0 # minutes                                      \n",
    "timeInBank = 12.0  # mean, minutes                          \n",
    "ARRint = 10.0    # mean, minutes                          \n",
    "Nc = 2           # number of counters\n",
    "theseed = 12345                                            \n",
    "                                     \n",
    "## Model/Experiment   ----------------------\n",
    "\n",
    "seed(theseed)\n",
    "k = simpy.Resource(capacity=Nc,name=\"Clerk\")                     \n",
    "wM = Monitor()                                             \n",
    "initialize()    \n",
    "s = Source('Source')\n",
    "activate(s,s.generate(number=maxNumber,interval=ARRint,   \n",
    "                      resource=k),at=0.0)\n",
    "simulate(until=maxTime)                                    \n",
    "\n",
    "## Result  ----------------------------------\n",
    "\n",
    "result = wM.count(),wM.mean()                             \n",
    "print(\"Average wait for %3d completions was %5.3f minutes.\"% result)\n"
   ]
  },
  {
   "cell_type": "code",
   "execution_count": null,
   "metadata": {
    "collapsed": true
   },
   "outputs": [],
   "source": []
  }
 ],
 "metadata": {
  "kernelspec": {
   "display_name": "Python 3",
   "language": "python",
   "name": "python3"
  },
  "language_info": {
   "codemirror_mode": {
    "name": "ipython",
    "version": 3
   },
   "file_extension": ".py",
   "mimetype": "text/x-python",
   "name": "python",
   "nbconvert_exporter": "python",
   "pygments_lexer": "ipython3",
   "version": "3.6.3"
  }
 },
 "nbformat": 4,
 "nbformat_minor": 2
}
